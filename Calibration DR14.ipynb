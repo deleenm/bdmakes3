{
 "cells": [
  {
   "cell_type": "code",
   "execution_count": 1,
   "metadata": {},
   "outputs": [
    {
     "name": "stdout",
     "output_type": "stream",
     "text": [
      "env: RESULTS_VERS=l31c.2\n"
     ]
    }
   ],
   "source": [
    "#%set_env SDSS_LOCAL_SAS_MIRROR=/hd0/data/APOGEE\n",
    "%set_env RESULTS_VERS=l31c.2\n",
    "#%set_env APOGEE_APOKASC_REDUX=v6.2a\n",
    "#%env"
   ]
  },
  {
   "cell_type": "code",
   "execution_count": 2,
   "metadata": {
    "collapsed": true
   },
   "outputs": [],
   "source": [
    "#Change DR\n",
    "#from apogee.tools.path import change_dr\n",
    "#change_dr('14')"
   ]
  },
  {
   "cell_type": "code",
   "execution_count": 3,
   "metadata": {
    "collapsed": true
   },
   "outputs": [],
   "source": [
    "#from apogee.tools import download\n",
    "#download.ferreModelLibrary(lib='GK',pca=True,sixd=True,unf=False,convertToBin=True)"
   ]
  },
  {
   "cell_type": "code",
   "execution_count": 4,
   "metadata": {},
   "outputs": [
    {
     "ename": "RuntimeError",
     "evalue": "SDSS_LOCAL_SAS_MIRROR environment variable needs to be set to use the 'apogee' module",
     "output_type": "error",
     "traceback": [
      "\u001b[0;31m---------------------------------------------------------------------------\u001b[0m",
      "\u001b[0;31mRuntimeError\u001b[0m                              Traceback (most recent call last)",
      "\u001b[0;32m<ipython-input-4-3e0118482e17>\u001b[0m in \u001b[0;36m<module>\u001b[0;34m()\u001b[0m\n\u001b[1;32m      2\u001b[0m \u001b[0mget_ipython\u001b[0m\u001b[0;34m(\u001b[0m\u001b[0;34m)\u001b[0m\u001b[0;34m.\u001b[0m\u001b[0mmagic\u001b[0m\u001b[0;34m(\u001b[0m\u001b[0;34mu'matplotlib inline'\u001b[0m\u001b[0;34m)\u001b[0m\u001b[0;34m\u001b[0m\u001b[0m\n\u001b[1;32m      3\u001b[0m \u001b[0;32mimport\u001b[0m \u001b[0mnumpy\u001b[0m \u001b[0;32mas\u001b[0m \u001b[0mnp\u001b[0m\u001b[0;34m\u001b[0m\u001b[0m\n\u001b[0;32m----> 4\u001b[0;31m \u001b[0;32mimport\u001b[0m \u001b[0mapogee\u001b[0m\u001b[0;34m.\u001b[0m\u001b[0mtools\u001b[0m\u001b[0;34m.\u001b[0m\u001b[0mread\u001b[0m \u001b[0;32mas\u001b[0m \u001b[0mapread\u001b[0m\u001b[0;34m\u001b[0m\u001b[0m\n\u001b[0m\u001b[1;32m      5\u001b[0m \u001b[0;32mimport\u001b[0m \u001b[0mapogee\u001b[0m\u001b[0;34m.\u001b[0m\u001b[0mspec\u001b[0m\u001b[0;34m.\u001b[0m\u001b[0mplot\u001b[0m \u001b[0;32mas\u001b[0m \u001b[0msplot\u001b[0m\u001b[0;34m\u001b[0m\u001b[0m\n",
      "\u001b[0;32m/home/deleenm/anaconda3/envs/bdmakes3/lib/python2.7/site-packages/apogee/tools/__init__.py\u001b[0m in \u001b[0;36m<module>\u001b[0;34m()\u001b[0m\n\u001b[1;32m      2\u001b[0m \u001b[0;32mimport\u001b[0m \u001b[0mnumpy\u001b[0m\u001b[0;34m\u001b[0m\u001b[0m\n\u001b[1;32m      3\u001b[0m \u001b[0;32mfrom\u001b[0m \u001b[0mscipy\u001b[0m \u001b[0;32mimport\u001b[0m \u001b[0moptimize\u001b[0m\u001b[0;34m,\u001b[0m \u001b[0minterpolate\u001b[0m\u001b[0;34m\u001b[0m\u001b[0m\n\u001b[0;32m----> 4\u001b[0;31m \u001b[0;32mfrom\u001b[0m \u001b[0;34m.\u001b[0m \u001b[0;32mimport\u001b[0m \u001b[0mpath\u001b[0m \u001b[0;32mas\u001b[0m \u001b[0mappath\u001b[0m\u001b[0;34m\u001b[0m\u001b[0m\n\u001b[0m\u001b[1;32m      5\u001b[0m \u001b[0;32mfrom\u001b[0m \u001b[0;34m.\u001b[0m \u001b[0;32mimport\u001b[0m \u001b[0mdownload\u001b[0m \u001b[0;32mas\u001b[0m \u001b[0mdownload\u001b[0m\u001b[0;34m\u001b[0m\u001b[0m\n\u001b[1;32m      6\u001b[0m \u001b[0;32mimport\u001b[0m \u001b[0mfitsio\u001b[0m\u001b[0;34m\u001b[0m\u001b[0m\n",
      "\u001b[0;32m/home/deleenm/anaconda3/envs/bdmakes3/lib/python2.7/site-packages/apogee/tools/path.py\u001b[0m in \u001b[0;36m<module>\u001b[0;34m()\u001b[0m\n\u001b[1;32m     35\u001b[0m     \u001b[0m_APOGEE_DATA\u001b[0m\u001b[0;34m=\u001b[0m \u001b[0mos\u001b[0m\u001b[0;34m.\u001b[0m\u001b[0mgetenv\u001b[0m\u001b[0;34m(\u001b[0m\u001b[0;34m'APOGEE_DATA'\u001b[0m\u001b[0;34m)\u001b[0m\u001b[0;34m\u001b[0m\u001b[0m\n\u001b[1;32m     36\u001b[0m     \u001b[0;32mif\u001b[0m \u001b[0m_APOGEE_DATA\u001b[0m \u001b[0;32mis\u001b[0m \u001b[0mNone\u001b[0m\u001b[0;34m:\u001b[0m\u001b[0;34m\u001b[0m\u001b[0m\n\u001b[0;32m---> 37\u001b[0;31m         \u001b[0;32mraise\u001b[0m \u001b[0mRuntimeError\u001b[0m\u001b[0;34m(\u001b[0m\u001b[0;34m\"SDSS_LOCAL_SAS_MIRROR environment variable needs to be set to use the 'apogee' module\"\u001b[0m\u001b[0;34m)\u001b[0m\u001b[0;34m\u001b[0m\u001b[0m\n\u001b[0m\u001b[1;32m     38\u001b[0m     \u001b[0;32melse\u001b[0m\u001b[0;34m:\u001b[0m\u001b[0;34m\u001b[0m\u001b[0m\n\u001b[1;32m     39\u001b[0m         \u001b[0mwarnings\u001b[0m\u001b[0;34m.\u001b[0m\u001b[0mwarn\u001b[0m\u001b[0;34m(\u001b[0m\u001b[0;34m\"APOGEE_DATA environment variable is deprecated in favor of SDSS_LOCAL_SAS_MIRROR; please update your environment\"\u001b[0m\u001b[0;34m,\u001b[0m\u001b[0mDeprecationWarning\u001b[0m\u001b[0;34m)\u001b[0m\u001b[0;34m\u001b[0m\u001b[0m\n",
      "\u001b[0;31mRuntimeError\u001b[0m: SDSS_LOCAL_SAS_MIRROR environment variable needs to be set to use the 'apogee' module"
     ]
    }
   ],
   "source": [
    "import apogee\n",
    "%matplotlib inline\n",
    "import numpy as np\n",
    "import apogee.tools.read as apread\n",
    "import apogee.spec.plot as splot"
   ]
  },
  {
   "cell_type": "code",
   "execution_count": null,
   "metadata": {
    "collapsed": true
   },
   "outputs": [],
   "source": [
    "import apogee.tools.read as apread\n",
    "allStar= apread.allStar(rmcommissioning=True,main=False,ak=True, akvers='targ',adddist=False)"
   ]
  },
  {
   "cell_type": "code",
   "execution_count": null,
   "metadata": {
    "scrolled": true
   },
   "outputs": [],
   "source": [
    "from apogee.modelspec import ferre\n",
    "\n",
    "\n",
    "mspec= ferre.interpolate(4750.,2.5,-0.1,0.1,0.,0.)\n",
    "splot.waveregions(mspec)"
   ]
  },
  {
   "cell_type": "markdown",
   "metadata": {},
   "source": [
    "For TYC 3559 the useful info is:\n",
    "- https://dr12.sdss.org/infrared/spectrum/search?id=19164\n",
    "- APOGEE_ID = 2M20041135+4505154\n",
    "- Location_IC = 4462"
   ]
  },
  {
   "cell_type": "code",
   "execution_count": null,
   "metadata": {},
   "outputs": [],
   "source": [
    "allStar= apread.allStar(rmcommissioning=True,rmdups=True)"
   ]
  },
  {
   "cell_type": "code",
   "execution_count": null,
   "metadata": {},
   "outputs": [],
   "source": [
    "#param = ferre.fit(4462,'2M20041135+4505154',lib='GK',pca=True,sixd=True)\n",
    "#print(param)"
   ]
  },
  {
   "cell_type": "code",
   "execution_count": null,
   "metadata": {},
   "outputs": [],
   "source": [
    "#Get the actual value\n",
    "fparam = allStar[(allStar['APOGEE_ID'] == '2M20041135+4505154')]['FPARAM']\n",
    "print(fparam)"
   ]
  },
  {
   "cell_type": "code",
   "execution_count": null,
   "metadata": {
    "collapsed": true
   },
   "outputs": [],
   "source": [
    "#Now include the Cannon\n",
    "cparam = ferre.fit(4462,'2M20041135+4505154',lib='GK',pca=True,sixd=True,initcannon=True)\n",
    "print(param)"
   ]
  },
  {
   "cell_type": "markdown",
   "metadata": {
    "collapsed": true
   },
   "source": [
    "Let's try converting to ASPCAP values using http://adsabs.harvard.edu/cgi-bin/nph-data_query?bibcode=2015AJ....150..148H&db_key=AST&link_type=ABSTRACT&high=5a748cc7a900541"
   ]
  },
  {
   "cell_type": "code",
   "execution_count": null,
   "metadata": {
    "collapsed": true
   },
   "outputs": [],
   "source": [
    "def dr12teff(raw_teff):\n",
    "    '''This function applies the DR12 calibration to Effective Temperature'''\n",
    "    #Add in limits for applicable teffs\n",
    "    if raw_teff < 3000:\n",
    "        raw_teff = 3000\n",
    "    if raw_teff > 6000:\n",
    "        raw_teff = 6000\n",
    "    calib_teff = raw_teff - 0.0034*(raw_teff-4500)+87.9\n",
    "    return calib_teff"
   ]
  },
  {
   "cell_type": "code",
   "execution_count": null,
   "metadata": {
    "collapsed": true
   },
   "outputs": [],
   "source": [
    "teff_aspcap = float(allStar[(allStar['APOGEE_ID'] == '2M20041135+4505154')]['TEFF'])\n",
    "print(\"Fparam: {:.3f}, Fit: {:.3f}, Cannon: {:.3f}\".format(fparam[0,0],param[0,0],cparam[0,0]))\n",
    "print(\"ASPCAP: {:.3f}, Fparam: {:.3f}, Fit: {:.3f}, Cannon: {:.3f}\".format(teff_aspcap,dr12teff(fparam[0,0]),\n",
    "                                                            dr12teff(param[0,0]),dr12teff(cparam[0,0])))"
   ]
  },
  {
   "cell_type": "markdown",
   "metadata": {},
   "source": [
    "Now do it on log g."
   ]
  },
  {
   "cell_type": "code",
   "execution_count": null,
   "metadata": {
    "collapsed": true
   },
   "outputs": [],
   "source": [
    "def dr12logg(raw_logg):\n",
    "    '''This function applies the DR12 calibration to RGB Log g (do not use on RC stars).'''\n",
    "    calib_logg = raw_logg + 0.14*raw_logg-0.588\n",
    "    return calib_logg"
   ]
  },
  {
   "cell_type": "code",
   "execution_count": null,
   "metadata": {
    "collapsed": true
   },
   "outputs": [],
   "source": [
    "logg_aspcap = float(allStar[(allStar['APOGEE_ID'] == '2M20041135+4505154')]['LOGG'])\n",
    "print(\"Fparam: {:.3f}, Fit: {:.3f}, Cannon: {:.3f}\".format(fparam[0,1],param[0,1],cparam[0,1]))\n",
    "print(\"ASPCAP: {:.3f}, Fparam: {:.3f}, Fit: {:.3f}, Cannon: {:.3f}\".format(logg_aspcap,dr12logg(fparam[0,1]),\n",
    "                                                            dr12logg(param[0,1]),dr12logg(cparam[0,1])))"
   ]
  },
  {
   "cell_type": "code",
   "execution_count": null,
   "metadata": {
    "collapsed": true
   },
   "outputs": [],
   "source": [
    "def dr12M_H(raw_M_H,teff):\n",
    "    '''This function applies the DR12 calibration [M/H] log g <= 3.8'''\n",
    "    \n",
    "    #I don't know whether Teff is calibrated or not\n",
    "    if teff < 3800:\n",
    "        teff = 3800\n",
    "    if teff > 5250:\n",
    "        teff = 5250\n",
    "    \n",
    "\n",
    "    calib_M_H = raw_M_H +0.056*(teff -4500)/1000\n",
    "    #Now add outside calibration\n",
    "    extern_M_H = calib_M_H + 0.0260 + 0.255*calib_M_H + 0.062*calib_M_H**2\n",
    "    \n",
    "    return extern_M_H\n",
    "\n",
    "def dr12alpha(raw_alpha,teff):\n",
    "    '''This function applies the DR12 calibration [M/H] log g <= 3.8'''\n",
    "    \n",
    "    #I don't know whether Teff is calibrated or not\n",
    "    if teff < 3800:\n",
    "        teff = 3800\n",
    "    if teff > 5250:\n",
    "        teff = 5250   \n",
    "\n",
    "    calib_alpha = raw_alpha +0.028*(teff -4500)/1000\n",
    "    \n",
    "    return calib_alpha"
   ]
  },
  {
   "cell_type": "code",
   "execution_count": null,
   "metadata": {
    "collapsed": true
   },
   "outputs": [],
   "source": [
    "print(allStar[(allStar['APOGEE_ID'] == '2M20041135+4505154')]['PARAM'][0,6],dr12alpha(fparam[0,6],fparam[0,0]))\n",
    "M_H_aspcap = float(allStar[(allStar['APOGEE_ID'] == '2M20041135+4505154')]['METALS'])\n",
    "print(\"Fparam: {:.3f}, Fit: {:.3f}, Cannon: {:.3f}\".format(fparam[0,3],param[0,3],cparam[0,3]))\n",
    "print(\"ASPCAP: {:.3f}, Fparam: {:.3f}, Fit: {:.3f}, Cannon: {:.3f}\".format(M_H_aspcap,dr12M_H(fparam[0,3],fparam[0,0]),\n",
    "                                                            dr12M_H(param[0,3],fparam[0,0])\n",
    "                                                            ,dr12M_H(cparam[0,3],fparam[0,0])))"
   ]
  },
  {
   "cell_type": "code",
   "execution_count": null,
   "metadata": {
    "collapsed": true
   },
   "outputs": [],
   "source": [
    "alpha_aspcap = float(allStar[(allStar['APOGEE_ID'] == '2M20041135+4505154')]['ALPHAFE'])\n",
    "print(\"Fparam: {:.4f}, Fit: {:.4f}, Cannon: {:.4f}\".format(fparam[0,6],param[0,6],cparam[0,6]))\n",
    "print(\"ASPCAP: {:.4f}, Fparam: {:.4f}, Fit: {:.4f}, Cannon: {:.4f}\".format(alpha_aspcap,dr12alpha(fparam[0,6],fparam[0,0]),\n",
    "                                                            dr12alpha(param[0,6],fparam[0,0])\n",
    "                                                            ,dr12alpha(cparam[0,6],fparam[0,0])))"
   ]
  },
  {
   "cell_type": "code",
   "execution_count": null,
   "metadata": {
    "collapsed": true
   },
   "outputs": [],
   "source": []
  },
  {
   "cell_type": "code",
   "execution_count": null,
   "metadata": {
    "collapsed": true
   },
   "outputs": [],
   "source": []
  }
 ],
 "metadata": {
  "kernelspec": {
   "display_name": "bdmakes3",
   "language": "python",
   "name": "bdmakes3"
  },
  "language_info": {
   "codemirror_mode": {
    "name": "ipython",
    "version": 2
   },
   "file_extension": ".py",
   "mimetype": "text/x-python",
   "name": "python",
   "nbconvert_exporter": "python",
   "pygments_lexer": "ipython2",
   "version": "2.7.13"
  }
 },
 "nbformat": 4,
 "nbformat_minor": 2
}
